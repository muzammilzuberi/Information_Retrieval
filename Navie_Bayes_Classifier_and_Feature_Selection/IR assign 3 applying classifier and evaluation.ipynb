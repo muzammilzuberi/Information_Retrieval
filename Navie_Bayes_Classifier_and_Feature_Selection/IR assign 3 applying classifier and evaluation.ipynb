{
 "cells": [
  {
   "cell_type": "code",
   "execution_count": 297,
   "id": "744e1e84",
   "metadata": {},
   "outputs": [],
   "source": [
    "import string\n",
    "from nltk.stem import PorterStemmer\n",
    "def tokenize_doc(content):                          #function to tokenize docs, mentioned in previous file\n",
    "  for char in string.punctuation:\n",
    "    content2 = content.replace(char,' ')\n",
    "  tokens = content2.split()\n",
    "  #tokens.sort()\n",
    "  tokens2 = [i.lower() for i in tokens]\n",
    "  f = open('C:/Users/mmmoi/Python Codes/Stopword-List.txt')\n",
    "  stop_words = f.read()\n",
    "  stop_words_list = stop_words.split()\n",
    "  tokens3 = tokens2.copy()\n",
    "  #tokens3.sort()\n",
    "  \n",
    "  #print(tokens3)\n",
    "\n",
    "  for i in stop_words_list:\n",
    "    if i in tokens3:\n",
    "      tokens3 = [x for x in tokens3 if i!=x]\n",
    "  tokens4 = tokens3.copy()\n",
    "  #tokens4 = list(set(tokens3))\n",
    "  #tokens4.sort()\n",
    "  tokens5 = tokens4.copy()\n",
    "  tokens6=[]\n",
    "  ps = PorterStemmer()\n",
    "  for i in tokens5:\n",
    "    tokens6.append(ps.stem(i))\n",
    "    tokens7 = [i for i in tokens6 if not any(c.isdigit() for c in i)]\n",
    "  #tokens7.sort()\n",
    "  tokens8 = [i for i in tokens7 if len(i)>1]\n",
    "  #print(tokens7)\n",
    "  return tokens8"
   ]
  },
  {
   "cell_type": "code",
   "execution_count": 298,
   "id": "2ae2766e",
   "metadata": {},
   "outputs": [],
   "source": [
    "import re\n",
    "import os\n",
    "import codecs\n",
    "\n",
    "def cleanhtml(raw_html):               #same function as previous file\n",
    "  cleanr = re.compile('<.*?>')\n",
    "  cleantext = re.sub(cleanr, '', raw_html)\n",
    "  return cleantext"
   ]
  },
  {
   "cell_type": "code",
   "execution_count": 299,
   "id": "8dbf53a3",
   "metadata": {},
   "outputs": [
    {
     "data": {
      "text/plain": [
       "{'algorithm': 0.11278195488721804,\n",
       " 'alt': 0.007518796992481203,\n",
       " 'architectur': 0.09022556390977443,\n",
       " 'assign': 0.5714285714285714,\n",
       " 'class': 0.47368421052631576,\n",
       " 'click': 0.15789473684210525,\n",
       " 'code': 0.24060150375939848,\n",
       " 'comput': 0.6541353383458647,\n",
       " 'cornel': 0.09022556390977443,\n",
       " 'cours': 0.8345864661654135,\n",
       " 'cs': 0.6766917293233082,\n",
       " 'current': 0.15789473684210525,\n",
       " 'data': 0.16541353383458646,\n",
       " 'databas': 0.12781954887218044,\n",
       " 'dayton': 0.05263157894736842,\n",
       " 'depart': 0.23308270676691728,\n",
       " 'department': 0.015037593984962405,\n",
       " 'design': 0.21052631578947367,\n",
       " 'develop': 0.05263157894736842,\n",
       " 'distribut': 0.09774436090225563,\n",
       " 'edu': 0.007518796992481203,\n",
       " 'email': 0.2556390977443609,\n",
       " 'end': 0.09022556390977443,\n",
       " 'engin': 0.10526315789473684,\n",
       " 'fall': 0.45112781954887216,\n",
       " 'file': 0.3157894736842105,\n",
       " 'from': 0.43609022556390975,\n",
       " 'gener': 0.39097744360902253,\n",
       " 'grade': 0.49624060150375937,\n",
       " 'graduat': 0.07518796992481203,\n",
       " 'group': 0.16541353383458646,\n",
       " 'here': 0.2631578947368421,\n",
       " 'home': 0.5639097744360902,\n",
       " 'homepag': 0.06015037593984962,\n",
       " 'homework': 0.3458646616541353,\n",
       " 'hour': 0.21804511278195488,\n",
       " 'href': 0.03759398496240601,\n",
       " 'html': 0.06766917293233082,\n",
       " 'http': 0.022556390977443608,\n",
       " 'imag': 0.05263157894736842,\n",
       " 'info': 0.16541353383458646,\n",
       " 'inform': 0.6466165413533834,\n",
       " 'interest': 0.14285714285714285,\n",
       " 'internet': 0.09022556390977443,\n",
       " 'it': 0.3308270676691729,\n",
       " 'ithaca': 0.007518796992481203,\n",
       " 'java': 0.06015037593984962,\n",
       " 'languag': 0.3308270676691729,\n",
       " 'lectur': 0.44360902255639095,\n",
       " 'link': 0.2706766917293233,\n",
       " 'madison': 0.007518796992481203,\n",
       " 'mail': 0.13533834586466165,\n",
       " 'mathemat': 0.07518796992481203,\n",
       " 'may': 0.3609022556390977,\n",
       " 'me': 0.15789473684210525,\n",
       " 'more': 0.21804511278195488,\n",
       " 'music': 0.007518796992481203,\n",
       " 'my': 0.14285714285714285,\n",
       " 'network': 0.14285714285714285,\n",
       " 'new': 0.19548872180451127,\n",
       " 'not': 0.3458646616541353,\n",
       " 'note': 0.39849624060150374,\n",
       " 'offic': 0.6466165413533834,\n",
       " 'oper': 0.18045112781954886,\n",
       " 'or': 0.5338345864661654,\n",
       " 'other': 0.3458646616541353,\n",
       " 'page': 0.706766917293233,\n",
       " 'paper': 0.18796992481203006,\n",
       " 'parallel': 0.07518796992481203,\n",
       " 'perform': 0.09774436090225563,\n",
       " 'phone': 0.03759398496240601,\n",
       " 'postscript': 0.12030075187969924,\n",
       " 'problem': 0.3308270676691729,\n",
       " 'program': 0.5864661654135338,\n",
       " 'project': 0.2556390977443609,\n",
       " 'public': 0.05263157894736842,\n",
       " 'read': 0.3533834586466165,\n",
       " 'research': 0.10526315789473684,\n",
       " 'school': 0.03007518796992481,\n",
       " 'scienc': 0.39849624060150374,\n",
       " 'section': 0.3533834586466165,\n",
       " 'softwar': 0.13533834586466165,\n",
       " 'some': 0.3157894736842105,\n",
       " 'student': 0.2631578947368421,\n",
       " 'system': 0.37593984962406013,\n",
       " 'text': 0.3157894736842105,\n",
       " 'textbook': 0.14285714285714285,\n",
       " 'that': 0.3609022556390977,\n",
       " 'theori': 0.06766917293233082,\n",
       " 'thi': 0.6090225563909775,\n",
       " 'time': 0.2781954887218045,\n",
       " 'univers': 0.21052631578947367,\n",
       " 'use': 0.5488721804511278,\n",
       " 'version': 0.10526315789473684,\n",
       " 'wa': 0.09022556390977443,\n",
       " 'web': 0.2706766917293233,\n",
       " 'wi': 0.022556390977443608,\n",
       " 'will': 0.5338345864661654,\n",
       " 'wisc': 0.007518796992481203,\n",
       " 'wisconsin': 0.045112781954887216,\n",
       " 'work': 0.21804511278195488,\n",
       " 'world': 0.08270676691729323,\n",
       " 'www': 0.06015037593984962,\n",
       " 'you': 0.45864661654135336,\n",
       " 'your': 0.42105263157894735}"
      ]
     },
     "execution_count": 299,
     "metadata": {},
     "output_type": "execute_result"
    }
   ],
   "source": [
    "import pickle\n",
    "#loading probabilities for course features\n",
    "with open('conditional_probablity_course_bernoulli.txt', 'rb') as handle:\n",
    "    data = handle.read()\n",
    "\n",
    "conditional_probablity_course = pickle.loads(data)\n",
    "conditional_probablity_course"
   ]
  },
  {
   "cell_type": "code",
   "execution_count": 300,
   "id": "45f50594",
   "metadata": {},
   "outputs": [
    {
     "data": {
      "text/plain": [
       "{'algorithm': 0.17011494252873563,\n",
       " 'alt': 0.004597701149425287,\n",
       " 'architectur': 0.14942528735632185,\n",
       " 'assign': 0.027586206896551724,\n",
       " 'class': 0.1103448275862069,\n",
       " 'click': 0.14482758620689656,\n",
       " 'code': 0.04827586206896552,\n",
       " 'comput': 0.7977011494252874,\n",
       " 'cornel': 0.31264367816091954,\n",
       " 'cours': 0.15402298850574714,\n",
       " 'cs': 0.25517241379310346,\n",
       " 'current': 0.3080459770114943,\n",
       " 'data': 0.1471264367816092,\n",
       " 'databas': 0.15862068965517243,\n",
       " 'dayton': 0.25287356321839083,\n",
       " 'depart': 0.5333333333333333,\n",
       " 'department': 0.04367816091954023,\n",
       " 'design': 0.21149425287356322,\n",
       " 'develop': 0.23908045977011494,\n",
       " 'distribut': 0.21149425287356322,\n",
       " 'edu': 0.0022988505747126436,\n",
       " 'email': 0.0735632183908046,\n",
       " 'end': 0.022988505747126436,\n",
       " 'engin': 0.26666666666666666,\n",
       " 'fall': 0.1425287356321839,\n",
       " 'file': 0.06206896551724138,\n",
       " 'from': 0.36091954022988504,\n",
       " 'gener': 0.19080459770114944,\n",
       " 'grade': 0.01839080459770115,\n",
       " 'graduat': 0.27816091954022987,\n",
       " 'group': 0.18620689655172415,\n",
       " 'here': 0.23218390804597702,\n",
       " 'home': 0.6804597701149425,\n",
       " 'homepag': 0.09885057471264368,\n",
       " 'homework': 0.006896551724137931,\n",
       " 'hour': 0.027586206896551724,\n",
       " 'href': 0.027586206896551724,\n",
       " 'html': 0.04367816091954023,\n",
       " 'http': 0.009195402298850575,\n",
       " 'imag': 0.11264367816091954,\n",
       " 'info': 0.06436781609195402,\n",
       " 'inform': 0.3448275862068966,\n",
       " 'interest': 0.43448275862068964,\n",
       " 'internet': 0.07816091954022988,\n",
       " 'it': 0.25287356321839083,\n",
       " 'ithaca': 0.034482758620689655,\n",
       " 'java': 0.07126436781609195,\n",
       " 'languag': 0.15172413793103448,\n",
       " 'lectur': 0.07586206896551724,\n",
       " 'link': 0.22758620689655173,\n",
       " 'madison': 0.17701149425287357,\n",
       " 'mail': 0.06896551724137931,\n",
       " 'mathemat': 0.13333333333333333,\n",
       " 'may': 0.18620689655172415,\n",
       " 'me': 0.19310344827586207,\n",
       " 'more': 0.21379310344827587,\n",
       " 'music': 0.052873563218390804,\n",
       " 'my': 0.5701149425287356,\n",
       " 'network': 0.1632183908045977,\n",
       " 'new': 0.22298850574712645,\n",
       " 'not': 0.1793103448275862,\n",
       " 'note': 0.059770114942528735,\n",
       " 'offic': 0.13333333333333333,\n",
       " 'oper': 0.20689655172413793,\n",
       " 'or': 0.27586206896551724,\n",
       " 'other': 0.2689655172413793,\n",
       " 'page': 0.7103448275862069,\n",
       " 'paper': 0.17701149425287357,\n",
       " 'parallel': 0.2045977011494253,\n",
       " 'perform': 0.1632183908045977,\n",
       " 'phone': 0.0367816091954023,\n",
       " 'postscript': 0.07586206896551724,\n",
       " 'problem': 0.1103448275862069,\n",
       " 'program': 0.34022988505747126,\n",
       " 'project': 0.34022988505747126,\n",
       " 'public': 0.271264367816092,\n",
       " 'read': 0.08045977011494253,\n",
       " 'research': 0.5172413793103449,\n",
       " 'school': 0.08275862068965517,\n",
       " 'scienc': 0.6919540229885057,\n",
       " 'section': 0.059770114942528735,\n",
       " 'softwar': 0.2045977011494253,\n",
       " 'some': 0.26436781609195403,\n",
       " 'student': 0.335632183908046,\n",
       " 'system': 0.41839080459770117,\n",
       " 'text': 0.041379310344827586,\n",
       " 'textbook': 0.016091954022988506,\n",
       " 'that': 0.34942528735632183,\n",
       " 'theori': 0.11264367816091954,\n",
       " 'thi': 0.45517241379310347,\n",
       " 'time': 0.16551724137931034,\n",
       " 'univers': 0.6528735632183909,\n",
       " 'use': 0.36091954022988504,\n",
       " 'version': 0.09195402298850575,\n",
       " 'wa': 0.20919540229885059,\n",
       " 'web': 0.18620689655172415,\n",
       " 'wi': 0.26436781609195403,\n",
       " 'will': 0.14022988505747128,\n",
       " 'wisc': 0.0022988505747126436,\n",
       " 'wisconsin': 0.2413793103448276,\n",
       " 'work': 0.37471264367816093,\n",
       " 'world': 0.08045977011494253,\n",
       " 'www': 0.0735632183908046,\n",
       " 'you': 0.30114942528735633,\n",
       " 'your': 0.10114942528735632}"
      ]
     },
     "execution_count": 300,
     "metadata": {},
     "output_type": "execute_result"
    }
   ],
   "source": [
    "with open('conditional_probablity_non_course_bernoulli.txt', 'rb') as handle:\n",
    "    data = handle.read()\n",
    "#loading probabilities for non-course features\n",
    "conditional_probablity_non_course = pickle.loads(data)\n",
    "conditional_probablity_non_course"
   ]
  },
  {
   "cell_type": "code",
   "execution_count": 301,
   "id": "666c7b27",
   "metadata": {},
   "outputs": [],
   "source": [
    "#loading class probabilities \n",
    "f = open(\"counts_prob.txt\", \"r\")\n",
    "p_c = float(f.readline())\n",
    "n_c = float(f.readline())\n",
    "f.close()"
   ]
  },
  {
   "cell_type": "code",
   "execution_count": 302,
   "id": "8ada1a9d",
   "metadata": {},
   "outputs": [
    {
     "data": {
      "text/plain": [
       "0.2322695035460993"
      ]
     },
     "execution_count": 302,
     "metadata": {},
     "output_type": "execute_result"
    }
   ],
   "source": [
    "p_c"
   ]
  },
  {
   "cell_type": "code",
   "execution_count": 303,
   "id": "9aba1e1a",
   "metadata": {},
   "outputs": [
    {
     "data": {
      "text/plain": [
       "0.7677304964539007"
      ]
     },
     "execution_count": 303,
     "metadata": {},
     "output_type": "execute_result"
    }
   ],
   "source": [
    "n_c"
   ]
  },
  {
   "cell_type": "code",
   "execution_count": 304,
   "id": "e60ed817",
   "metadata": {},
   "outputs": [],
   "source": [
    "features = []\n",
    "#loading features\n",
    "with open('features.txt', 'r') as filehandle:\n",
    "    for line in filehandle:\n",
    "        currentPlace = line[:-1]\n",
    "        features.append(currentPlace)"
   ]
  },
  {
   "cell_type": "code",
   "execution_count": 305,
   "id": "1983769a",
   "metadata": {},
   "outputs": [],
   "source": [
    "def naive_bayes_multinomial(doc):\n",
    "    doc = tokenize_doc(doc)\n",
    "    x=0\n",
    "    count_w_new = {f:0 for f in features}\n",
    "    new_doc_featured = []\n",
    "    for i in doc:\n",
    "            for k in features:\n",
    "                if i==k:\n",
    "                    count_w_new[k] = count_w_new[k] + 1\n",
    "                    new_doc_featured.append(i)\n",
    "    score_course = 1\n",
    "    for i in features:\n",
    "        if i in new_doc_featured:\n",
    "            score_course = score_course * pow(conditional_probablity_course[i],count_w_new[i]) \n",
    "            #using the formula of multinomial naive bayes\n",
    "    non_course_score = 1\n",
    "    for i in features:\n",
    "        if i in new_doc_featured:\n",
    "            non_course_score = non_course_score * pow(conditional_probablity_non_course[i],count_w_new[i])\n",
    "             #using the formula of multinomial naive bayes\n",
    "    #multiplying each by class probablity\n",
    "    score_course = score_course*p_c\n",
    "    non_course_score = non_course_score*n_c\n",
    "    \n",
    "    if (score_course>non_course_score):\n",
    "        return 1   #indicates course\n",
    "    else:\n",
    "        return 0  #indicates non_course"
   ]
  },
  {
   "cell_type": "code",
   "execution_count": 306,
   "id": "1838e33e",
   "metadata": {},
   "outputs": [],
   "source": [
    "def naive_bayes_bernoulli(doc):\n",
    "    doc = tokenize_doc(doc)\n",
    "    x=0\n",
    "    count_w_new = {f:0 for f in features}\n",
    "    new_doc_featured = []\n",
    "    for i in doc:\n",
    "            for k in features:\n",
    "                if i==k:\n",
    "                    count_w_new[k] = count_w_new[k] + 1\n",
    "                    new_doc_featured.append(i)\n",
    "    score_course = 1\n",
    "    for i in features:\n",
    "        if i in new_doc_featured:\n",
    "            score_course = score_course * conditional_probablity_course[i]\n",
    "        else:\n",
    "            score_course = score_course * (1-conditional_probablity_course[i])\n",
    "            #using the formula of bernoulli naive bayes\n",
    "    non_course_score = 1\n",
    "    for i in features:\n",
    "        if i in new_doc_featured:\n",
    "            non_course_score = non_course_score * conditional_probablity_non_course[i]\n",
    "        else:\n",
    "            non_course_score = non_course_score * (1-conditional_probablity_non_course[i])   \n",
    "        #using the formula of bernoulli naive bayes\n",
    "    score_course = score_course*p_c\n",
    "    non_course_score = non_course_score*n_c\n",
    "    if (score_course>non_course_score):\n",
    "        return 1\n",
    "    else:\n",
    "        return 0"
   ]
  },
  {
   "cell_type": "code",
   "execution_count": 307,
   "id": "c2cdb12f",
   "metadata": {},
   "outputs": [],
   "source": [
    "directory = r'C:\\Users\\mmmoi\\Python Codes\\course-cotrain-data\\fulltext\\course'\n",
    "course_results = []\n",
    "for filename in os.listdir(directory):\n",
    "    if not filename.endswith('.html'):     #reading not .html files for testing\n",
    "        fname = os.path.join(directory, filename)\n",
    "        file = codecs.open(os.path.abspath(fname), \"r\", encoding = \"ISO-8859-1\")\n",
    "        doc = cleanhtml(file.read())\n",
    "        course_results.append(naive_bayes_bernoulli(doc))  #using bernoulli as it gave better results"
   ]
  },
  {
   "cell_type": "code",
   "execution_count": 308,
   "id": "22c00c94",
   "metadata": {},
   "outputs": [],
   "source": [
    "directory = r'C:\\Users\\mmmoi\\Python Codes\\course-cotrain-data\\fulltext\\non-course'\n",
    "non_course_results = []\n",
    "for filename in os.listdir(directory):\n",
    "    if not filename.endswith('.html'):     #reading not .html files for testing\n",
    "        fname = os.path.join(directory, filename)\n",
    "        file = codecs.open(os.path.abspath(fname), \"r\", encoding = \"ISO-8859-1\")\n",
    "        doc = cleanhtml(file.read())\n",
    "        #print(naive_bayes(doc))\n",
    "        non_course_results.append(naive_bayes_bernoulli(doc))  #using bernoulli as it gave better results"
   ]
  },
  {
   "cell_type": "code",
   "execution_count": 309,
   "id": "348cb251",
   "metadata": {},
   "outputs": [
    {
     "data": {
      "text/plain": [
       "12"
      ]
     },
     "execution_count": 309,
     "metadata": {},
     "output_type": "execute_result"
    }
   ],
   "source": [
    "course_results.count(1)\n",
    "non_course_results.count(1)"
   ]
  },
  {
   "cell_type": "code",
   "execution_count": 310,
   "id": "024a6130",
   "metadata": {},
   "outputs": [],
   "source": [
    "cf_matrix = [[non_course_results.count(0),non_course_results.count(1)],[course_results.count(0),course_results.count(1)]]\n",
    "#making a confusion matrix for representation and evaluation of the model"
   ]
  },
  {
   "cell_type": "code",
   "execution_count": 311,
   "id": "08c0fab5",
   "metadata": {},
   "outputs": [
    {
     "data": {
      "text/plain": [
       "[[376, 12], [24, 75]]"
      ]
     },
     "execution_count": 311,
     "metadata": {},
     "output_type": "execute_result"
    }
   ],
   "source": [
    "cf_matrix"
   ]
  },
  {
   "cell_type": "code",
   "execution_count": 312,
   "id": "2c996039",
   "metadata": {},
   "outputs": [
    {
     "data": {
      "text/plain": [
       "<AxesSubplot:>"
      ]
     },
     "execution_count": 312,
     "metadata": {},
     "output_type": "execute_result"
    },
    {
     "data": {
      "image/png": "[encoded data removed]",
      "text/plain": [
       "<Figure size 432x288 with 2 Axes>"
      ]
     },
     "metadata": {
      "needs_background": "light"
     },
     "output_type": "display_data"
    }
   ],
   "source": [
    "import seaborn as sns\n",
    "sns.heatmap(cf_matrix, annot=True, fmt='g')  #displaying results in form of confusion matrix"
   ]
  },
  {
   "cell_type": "code",
   "execution_count": 313,
   "id": "5ff596d5",
   "metadata": {},
   "outputs": [],
   "source": [
    "import numpy as np\n",
    "cf_matrix = np.array(cf_matrix)"
   ]
  },
  {
   "cell_type": "code",
   "execution_count": 314,
   "id": "64009e98",
   "metadata": {},
   "outputs": [
    {
     "data": {
      "text/plain": [
       "<AxesSubplot:>"
      ]
     },
     "execution_count": 314,
     "metadata": {},
     "output_type": "execute_result"
    },
    {
     "data": {
      "image/png": "[encoded data removed]",
      "text/plain": [
       "<Figure size 432x288 with 2 Axes>"
      ]
     },
     "metadata": {
      "needs_background": "light"
     },
     "output_type": "display_data"
    }
   ],
   "source": [
    "group_names = ['True Neg','False Pos','False Neg','True Pos']\n",
    "group_counts = ['{0:0.0f}'.format(value) for value in\n",
    "                cf_matrix.flatten()]\n",
    "group_percentages = [\"{0:.2%}\".format(value) for value in\n",
    "                     cf_matrix.flatten()/np.sum(cf_matrix)]\n",
    "labels = [f\"{v1}\\n{v2}\\n{v3}\" for v1, v2, v3 in zip(group_names,group_counts,group_percentages)]\n",
    "labels = np.asarray(labels).reshape(2,2)\n",
    "sns.heatmap(cf_matrix, annot=labels, fmt='', cmap='Blues')\n",
    "\n",
    "#displaying results with labels"
   ]
  },
  {
   "cell_type": "code",
   "execution_count": 315,
   "id": "3636b61e",
   "metadata": {},
   "outputs": [],
   "source": [
    "tn = cf_matrix[0][0]\n",
    "tp = cf_matrix[1][1]\n",
    "fp = cf_matrix[0][1]\n",
    "fn = cf_matrix[1][0]"
   ]
  },
  {
   "cell_type": "markdown",
   "id": "a09cc64c",
   "metadata": {},
   "source": [
    "The following are metrics of evaluation"
   ]
  },
  {
   "cell_type": "code",
   "execution_count": 316,
   "id": "1ea992e8",
   "metadata": {},
   "outputs": [],
   "source": [
    "recall = tp / (tp + fn)\n",
    "precision = tp / (tp + fp)"
   ]
  },
  {
   "cell_type": "code",
   "execution_count": 317,
   "id": "e1fdba27",
   "metadata": {},
   "outputs": [
    {
     "data": {
      "text/plain": [
       "0.7575757575757576"
      ]
     },
     "execution_count": 317,
     "metadata": {},
     "output_type": "execute_result"
    }
   ],
   "source": [
    "recall"
   ]
  },
  {
   "cell_type": "code",
   "execution_count": 318,
   "id": "4c98eb44",
   "metadata": {},
   "outputs": [
    {
     "data": {
      "text/plain": [
       "0.8620689655172413"
      ]
     },
     "execution_count": 318,
     "metadata": {},
     "output_type": "execute_result"
    }
   ],
   "source": [
    "precision"
   ]
  },
  {
   "cell_type": "code",
   "execution_count": 319,
   "id": "9bfc784b",
   "metadata": {},
   "outputs": [],
   "source": [
    "accuracy = (tp + tn)/(tn + fn + tp + fp)"
   ]
  },
  {
   "cell_type": "code",
   "execution_count": 320,
   "id": "93924c84",
   "metadata": {},
   "outputs": [
    {
     "data": {
      "text/plain": [
       "0.9260780287474333"
      ]
     },
     "execution_count": 320,
     "metadata": {},
     "output_type": "execute_result"
    }
   ],
   "source": [
    "accuracy"
   ]
  },
  {
   "cell_type": "code",
   "execution_count": 321,
   "id": "c8862f8a",
   "metadata": {},
   "outputs": [],
   "source": [
    "f1_score = 2*precision*recall/(precision+recall)"
   ]
  },
  {
   "cell_type": "code",
   "execution_count": 322,
   "id": "216a8e30",
   "metadata": {},
   "outputs": [
    {
     "data": {
      "text/plain": [
       "0.8064516129032258"
      ]
     },
     "execution_count": 322,
     "metadata": {},
     "output_type": "execute_result"
    }
   ],
   "source": [
    "f1_score"
   ]
  },
  {
   "cell_type": "markdown",
   "id": "e1795d62",
   "metadata": {},
   "source": [
    "Conclusion: Features were selected on all 3 criterias mentioned, training and testing data was splitted based on extension to make work easier. Files were stored to reduce the speec of prediction. File 1 is required to be executed 1 time only. \n",
    "All conditional prbablities were calculated manually for both naive bayes multinomial and bernoulli, and were tested on both.\n",
    "Bernoulli gave better results hence that is the one shown here. The classifiers were also implemneted from scratch. \n",
    "Libraries were used for lexical chain and tagging of nouns. Top idf scores were also calculated manually."
   ]
  },
  {
   "cell_type": "code",
   "execution_count": null,
   "id": "6ef20975",
   "metadata": {},
   "outputs": [],
   "source": [
    "from tkinter import *\n",
    "from tkinter import filedialog\n",
    "\n",
    "#interface for classifying documents after selecting\n",
    "\n",
    "def openFile():\n",
    "    tf = filedialog.askopenfilename(\n",
    "        initialdir=\"C:/Users/MainFrame/Desktop/\", \n",
    "        title=\"Open Text file\", \n",
    "        filetypes=((\"Text Files\", \"*\"),)\n",
    "        )\n",
    "    pathh.insert(END, tf)\n",
    "    tf = open(tf)  # or tf = open(tf, 'r')\n",
    "    data = tf.read()\n",
    "    c = naive_bayes_bernoulli(cleanhtml(data))\n",
    "    if c==0:\n",
    "        txtarea.insert(END, 'Non-course\\n')\n",
    "    else:\n",
    "        txtarea.insert(END, 'Course\\n')\n",
    "    tf.close()\n",
    "    \n",
    "ws = Tk()\n",
    "ws.title(\"Assignment 3\")\n",
    "ws.geometry(\"400x450\")\n",
    "ws['bg']='#fb0'\n",
    "\n",
    "txtarea = Text(ws, width=40, height=20)\n",
    "txtarea.pack(pady=20)\n",
    "\n",
    "pathh = Entry(ws)\n",
    "pathh.pack(side=LEFT, expand=True, fill=X, padx=20)\n",
    "\n",
    "\n",
    "\n",
    "Button(\n",
    "    ws, \n",
    "    text=\"Open File\", \n",
    "    command=openFile\n",
    "    ).pack(side=RIGHT, expand=True, fill=X, padx=20)\n",
    "\n",
    "\n",
    "ws.mainloop()"
   ]
  }
 ],
 "metadata": {
  "kernelspec": {
   "display_name": "Python 3 (ipykernel)",
   "language": "python",
   "name": "python3"
  },
  "language_info": {
   "codemirror_mode": {
    "name": "ipython",
    "version": 3
   },
   "file_extension": ".py",
   "mimetype": "text/x-python",
   "name": "python",
   "nbconvert_exporter": "python",
   "pygments_lexer": "ipython3",
   "version": "3.9.7"
  }
 },
 "nbformat": 4,
 "nbformat_minor": 5
}
